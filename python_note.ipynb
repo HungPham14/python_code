{
 "cells": [
  {
   "cell_type": "markdown",
   "id": "6b78ffdf",
   "metadata": {},
   "source": [
    "Note: \n",
    "The purpose of this notebook is to demostrate a few lines of Python code but are very helpful when it comes working with big data which usually are extreme time-consumming & energy-wasting manual processes."
   ]
  },
  {
   "cell_type": "markdown",
   "id": "e16dc2e5",
   "metadata": {},
   "source": [
    "# Move Files"
   ]
  },
  {
   "cell_type": "code",
   "execution_count": 1,
   "id": "fd98ad3a",
   "metadata": {},
   "outputs": [],
   "source": [
    "import os"
   ]
  },
  {
   "cell_type": "code",
   "execution_count": 2,
   "id": "1a719a4a",
   "metadata": {
    "scrolled": true
   },
   "outputs": [],
   "source": [
    "old_dir = 'old_path_that_leads_to_files'\n",
    "new_dir = 'new_path'"
   ]
  },
  {
   "cell_type": "code",
   "execution_count": 32,
   "id": "8c7d5a99",
   "metadata": {},
   "outputs": [],
   "source": [
    "for i in os.listdir(old_dir):\n",
    "    os.replace('/'.join((old_dir,i)), '/'.join((new_dir,i)))"
   ]
  },
  {
   "cell_type": "markdown",
   "id": "0bba2ca1",
   "metadata": {},
   "source": [
    "# Delete Files"
   ]
  },
  {
   "cell_type": "code",
   "execution_count": 34,
   "id": "fdb449c6",
   "metadata": {},
   "outputs": [],
   "source": [
    "import shutil"
   ]
  },
  {
   "cell_type": "code",
   "execution_count": 43,
   "id": "2ff45a91",
   "metadata": {
    "scrolled": true
   },
   "outputs": [],
   "source": [
    "shutil.rmtree(path)"
   ]
  },
  {
   "cell_type": "markdown",
   "id": "3e8d05c9",
   "metadata": {},
   "source": [
    "# Extract Files"
   ]
  },
  {
   "cell_type": "code",
   "execution_count": 1,
   "id": "ed892d8f",
   "metadata": {},
   "outputs": [],
   "source": [
    "import zipfile\n",
    "with zipfile.ZipFile(path + zip_file, 'r') as zip_ref:\n",
    "    zip_ref.extractall(destination_path)"
   ]
  },
  {
   "cell_type": "markdown",
   "id": "11132c0e",
   "metadata": {},
   "source": [
    "**That's it. Thank you for reading this notebook.**"
   ]
  }
 ],
 "metadata": {
  "kernelspec": {
   "display_name": "Python 3 (ipykernel)",
   "language": "python",
   "name": "python3"
  },
  "language_info": {
   "codemirror_mode": {
    "name": "ipython",
    "version": 3
   },
   "file_extension": ".py",
   "mimetype": "text/x-python",
   "name": "python",
   "nbconvert_exporter": "python",
   "pygments_lexer": "ipython3",
   "version": "3.9.7"
  }
 },
 "nbformat": 4,
 "nbformat_minor": 5
}
